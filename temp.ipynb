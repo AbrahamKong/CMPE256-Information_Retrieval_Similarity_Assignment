{
  "nbformat": 4,
  "nbformat_minor": 0,
  "metadata": {
    "colab": {
      "name": "temp.ipynb",
      "provenance": [],
      "authorship_tag": "ABX9TyNLSHnSjPaejE1GvFnAPONX",
      "include_colab_link": true
    },
    "kernelspec": {
      "name": "python3",
      "display_name": "Python 3"
    },
    "language_info": {
      "name": "python"
    }
  },
  "cells": [
    {
      "cell_type": "markdown",
      "metadata": {
        "id": "view-in-github",
        "colab_type": "text"
      },
      "source": [
        "<a href=\"https://colab.research.google.com/github/AbrahamKong/temp/blob/main/temp.ipynb\" target=\"_parent\"><img src=\"https://colab.research.google.com/assets/colab-badge.svg\" alt=\"Open In Colab\"/></a>"
      ]
    },
    {
      "cell_type": "code",
      "metadata": {
        "id": "fn4ethilqIhh"
      },
      "source": [
        "# Import neccassary library\n",
        "\n",
        "import pandas as pd\n",
        "import numpy as np"
      ],
      "execution_count": 68,
      "outputs": []
    },
    {
      "cell_type": "code",
      "metadata": {
        "colab": {
          "base_uri": "https://localhost:8080/"
        },
        "id": "ZsTAqAS2wvfd",
        "outputId": "1d0b080c-46ab-4bad-8c54-d8f16c6a0c64"
      },
      "source": [
        "# Read In text from files\n",
        "\n",
        "data_dir = \"/content/\"\n",
        "data_files_1 = [\n",
        "    \"q1.txt\", \"Document1.txt\", \"Document2.txt\", \"Document3.txt\",\n",
        "    \"Document4.txt\"\n",
        "]\n",
        "\n",
        "data_files_2 = [\n",
        "    \"q2.txt\", \"Document1.txt\", \"Document2.txt\", \"Document3.txt\",\n",
        "    \"Document4.txt\"\n",
        "]\n",
        "\n",
        "data1 = pd.Series()\n",
        "data2 = pd.Series()\n",
        "print(\"First set of Documents:\")\n",
        "for file in data_files_1:\n",
        "    f = open(data_dir + file, 'r')\n",
        "    file_contents = f.read()\n",
        "    data1[file[:-4]] = file_contents\n",
        "    f.close()\n",
        "    print(file + \":\" + data1[file[:-4]])\n",
        "print(\"Second set of Documents:\")\n",
        "for file in data_files_2:\n",
        "    f = open(data_dir + file, 'r')\n",
        "    file_contents = f.read()\n",
        "    data2[file[:-4]] = file_contents\n",
        "    f.close()\n",
        "    print(file + \":\" + data2[file[:-4]])"
      ],
      "execution_count": 69,
      "outputs": [
        {
          "output_type": "stream",
          "name": "stdout",
          "text": [
            "First set of Documents:\n",
            "q1.txt:say goodbye\n",
            "Document1.txt:You say goodbye, I say hello\n",
            "Document2.txt:You say stop, I say go\n",
            "Document3.txt:Hello, hello, you say goodbye\n",
            "Document4.txt:I say yes, you say no\n",
            "Second set of Documents:\n",
            "q2.txt:you hello\n",
            "Document1.txt:You say goodbye, I say hello\n",
            "Document2.txt:You say stop, I say go\n",
            "Document3.txt:Hello, hello, you say goodbye\n",
            "Document4.txt:I say yes, you say no\n"
          ]
        },
        {
          "output_type": "stream",
          "name": "stderr",
          "text": [
            "/usr/local/lib/python3.7/dist-packages/ipykernel_launcher.py:14: DeprecationWarning: The default dtype for empty Series will be 'object' instead of 'float64' in a future version. Specify a dtype explicitly to silence this warning.\n",
            "  \n",
            "/usr/local/lib/python3.7/dist-packages/ipykernel_launcher.py:15: DeprecationWarning: The default dtype for empty Series will be 'object' instead of 'float64' in a future version. Specify a dtype explicitly to silence this warning.\n",
            "  from ipykernel import kernelapp as app\n"
          ]
        }
      ]
    },
    {
      "cell_type": "code",
      "metadata": {
        "colab": {
          "base_uri": "https://localhost:8080/"
        },
        "id": "mKUsIrtEqKBU",
        "outputId": "f9bdf93b-229d-4d9e-da8f-73b5c33487c6"
      },
      "source": [
        "# Count Word for each document\n",
        "\n",
        "from collections import Counter\n",
        "\n",
        "bag_of_words1 = (\n",
        "    data1.\n",
        "    str.lower().                  # convert all letters to lowercase\n",
        "    str.replace(\"[^\\w\\s]\", \" \").  # replace non-alphanumeric characters by whitespace\n",
        "    str.split()                   # split on whitespace\n",
        ").apply(Counter)\n",
        "\n",
        "bag_of_words2 = (\n",
        "    data2.\n",
        "    str.lower().                  # convert all letters to lowercase\n",
        "    str.replace(\"[^\\w\\s]\", \" \").  # replace non-alphanumeric characters by whitespace\n",
        "    str.split()                   # split on whitespace\n",
        ").apply(Counter)\n",
        "\n",
        "bag_of_words1\n",
        "bag_of_words2"
      ],
      "execution_count": 70,
      "outputs": [
        {
          "output_type": "execute_result",
          "data": {
            "text/plain": [
              "q2                                      {'you': 1, 'hello': 1}\n",
              "Document1    {'you': 1, 'say': 2, 'goodbye': 1, 'i': 1, 'he...\n",
              "Document2     {'you': 1, 'say': 2, 'stop': 1, 'i': 1, 'go': 1}\n",
              "Document3       {'hello': 2, 'you': 1, 'say': 1, 'goodbye': 1}\n",
              "Document4      {'i': 1, 'say': 2, 'yes': 1, 'you': 1, 'no': 1}\n",
              "dtype: object"
            ]
          },
          "metadata": {},
          "execution_count": 70
        }
      ]
    },
    {
      "cell_type": "markdown",
      "metadata": {
        "id": "9XBV26msw_Eu"
      },
      "source": [
        "**TF-iDF**"
      ]
    },
    {
      "cell_type": "code",
      "metadata": {
        "id": "mA7dnPL7qZlA",
        "colab": {
          "base_uri": "https://localhost:8080/",
          "height": 202
        },
        "outputId": "42def655-bf08-482d-bfc8-19cdd4bd67b7"
      },
      "source": [
        "# Set up TD\n",
        "\n",
        "tf1 = pd.DataFrame(list(bag_of_words1))\n",
        "tf1"
      ],
      "execution_count": 71,
      "outputs": [
        {
          "output_type": "execute_result",
          "data": {
            "text/html": [
              "<div>\n",
              "<style scoped>\n",
              "    .dataframe tbody tr th:only-of-type {\n",
              "        vertical-align: middle;\n",
              "    }\n",
              "\n",
              "    .dataframe tbody tr th {\n",
              "        vertical-align: top;\n",
              "    }\n",
              "\n",
              "    .dataframe thead th {\n",
              "        text-align: right;\n",
              "    }\n",
              "</style>\n",
              "<table border=\"1\" class=\"dataframe\">\n",
              "  <thead>\n",
              "    <tr style=\"text-align: right;\">\n",
              "      <th></th>\n",
              "      <th>say</th>\n",
              "      <th>goodbye</th>\n",
              "      <th>you</th>\n",
              "      <th>i</th>\n",
              "      <th>hello</th>\n",
              "      <th>stop</th>\n",
              "      <th>go</th>\n",
              "      <th>yes</th>\n",
              "      <th>no</th>\n",
              "    </tr>\n",
              "  </thead>\n",
              "  <tbody>\n",
              "    <tr>\n",
              "      <th>0</th>\n",
              "      <td>1</td>\n",
              "      <td>1.0</td>\n",
              "      <td>NaN</td>\n",
              "      <td>NaN</td>\n",
              "      <td>NaN</td>\n",
              "      <td>NaN</td>\n",
              "      <td>NaN</td>\n",
              "      <td>NaN</td>\n",
              "      <td>NaN</td>\n",
              "    </tr>\n",
              "    <tr>\n",
              "      <th>1</th>\n",
              "      <td>2</td>\n",
              "      <td>1.0</td>\n",
              "      <td>1.0</td>\n",
              "      <td>1.0</td>\n",
              "      <td>1.0</td>\n",
              "      <td>NaN</td>\n",
              "      <td>NaN</td>\n",
              "      <td>NaN</td>\n",
              "      <td>NaN</td>\n",
              "    </tr>\n",
              "    <tr>\n",
              "      <th>2</th>\n",
              "      <td>2</td>\n",
              "      <td>NaN</td>\n",
              "      <td>1.0</td>\n",
              "      <td>1.0</td>\n",
              "      <td>NaN</td>\n",
              "      <td>1.0</td>\n",
              "      <td>1.0</td>\n",
              "      <td>NaN</td>\n",
              "      <td>NaN</td>\n",
              "    </tr>\n",
              "    <tr>\n",
              "      <th>3</th>\n",
              "      <td>1</td>\n",
              "      <td>1.0</td>\n",
              "      <td>1.0</td>\n",
              "      <td>NaN</td>\n",
              "      <td>2.0</td>\n",
              "      <td>NaN</td>\n",
              "      <td>NaN</td>\n",
              "      <td>NaN</td>\n",
              "      <td>NaN</td>\n",
              "    </tr>\n",
              "    <tr>\n",
              "      <th>4</th>\n",
              "      <td>2</td>\n",
              "      <td>NaN</td>\n",
              "      <td>1.0</td>\n",
              "      <td>1.0</td>\n",
              "      <td>NaN</td>\n",
              "      <td>NaN</td>\n",
              "      <td>NaN</td>\n",
              "      <td>1.0</td>\n",
              "      <td>1.0</td>\n",
              "    </tr>\n",
              "  </tbody>\n",
              "</table>\n",
              "</div>"
            ],
            "text/plain": [
              "   say  goodbye  you    i  hello  stop   go  yes   no\n",
              "0    1      1.0  NaN  NaN    NaN   NaN  NaN  NaN  NaN\n",
              "1    2      1.0  1.0  1.0    1.0   NaN  NaN  NaN  NaN\n",
              "2    2      NaN  1.0  1.0    NaN   1.0  1.0  NaN  NaN\n",
              "3    1      1.0  1.0  NaN    2.0   NaN  NaN  NaN  NaN\n",
              "4    2      NaN  1.0  1.0    NaN   NaN  NaN  1.0  1.0"
            ]
          },
          "metadata": {},
          "execution_count": 71
        }
      ]
    },
    {
      "cell_type": "code",
      "metadata": {
        "colab": {
          "base_uri": "https://localhost:8080/",
          "height": 202
        },
        "id": "v6YRORRWavaC",
        "outputId": "a029f763-6c50-49ce-d917-993dc84f8133"
      },
      "source": [
        "tf2 = pd.DataFrame(list(bag_of_words2))\n",
        "tf2"
      ],
      "execution_count": 72,
      "outputs": [
        {
          "output_type": "execute_result",
          "data": {
            "text/html": [
              "<div>\n",
              "<style scoped>\n",
              "    .dataframe tbody tr th:only-of-type {\n",
              "        vertical-align: middle;\n",
              "    }\n",
              "\n",
              "    .dataframe tbody tr th {\n",
              "        vertical-align: top;\n",
              "    }\n",
              "\n",
              "    .dataframe thead th {\n",
              "        text-align: right;\n",
              "    }\n",
              "</style>\n",
              "<table border=\"1\" class=\"dataframe\">\n",
              "  <thead>\n",
              "    <tr style=\"text-align: right;\">\n",
              "      <th></th>\n",
              "      <th>you</th>\n",
              "      <th>hello</th>\n",
              "      <th>say</th>\n",
              "      <th>goodbye</th>\n",
              "      <th>i</th>\n",
              "      <th>stop</th>\n",
              "      <th>go</th>\n",
              "      <th>yes</th>\n",
              "      <th>no</th>\n",
              "    </tr>\n",
              "  </thead>\n",
              "  <tbody>\n",
              "    <tr>\n",
              "      <th>0</th>\n",
              "      <td>1</td>\n",
              "      <td>1.0</td>\n",
              "      <td>NaN</td>\n",
              "      <td>NaN</td>\n",
              "      <td>NaN</td>\n",
              "      <td>NaN</td>\n",
              "      <td>NaN</td>\n",
              "      <td>NaN</td>\n",
              "      <td>NaN</td>\n",
              "    </tr>\n",
              "    <tr>\n",
              "      <th>1</th>\n",
              "      <td>1</td>\n",
              "      <td>1.0</td>\n",
              "      <td>2.0</td>\n",
              "      <td>1.0</td>\n",
              "      <td>1.0</td>\n",
              "      <td>NaN</td>\n",
              "      <td>NaN</td>\n",
              "      <td>NaN</td>\n",
              "      <td>NaN</td>\n",
              "    </tr>\n",
              "    <tr>\n",
              "      <th>2</th>\n",
              "      <td>1</td>\n",
              "      <td>NaN</td>\n",
              "      <td>2.0</td>\n",
              "      <td>NaN</td>\n",
              "      <td>1.0</td>\n",
              "      <td>1.0</td>\n",
              "      <td>1.0</td>\n",
              "      <td>NaN</td>\n",
              "      <td>NaN</td>\n",
              "    </tr>\n",
              "    <tr>\n",
              "      <th>3</th>\n",
              "      <td>1</td>\n",
              "      <td>2.0</td>\n",
              "      <td>1.0</td>\n",
              "      <td>1.0</td>\n",
              "      <td>NaN</td>\n",
              "      <td>NaN</td>\n",
              "      <td>NaN</td>\n",
              "      <td>NaN</td>\n",
              "      <td>NaN</td>\n",
              "    </tr>\n",
              "    <tr>\n",
              "      <th>4</th>\n",
              "      <td>1</td>\n",
              "      <td>NaN</td>\n",
              "      <td>2.0</td>\n",
              "      <td>NaN</td>\n",
              "      <td>1.0</td>\n",
              "      <td>NaN</td>\n",
              "      <td>NaN</td>\n",
              "      <td>1.0</td>\n",
              "      <td>1.0</td>\n",
              "    </tr>\n",
              "  </tbody>\n",
              "</table>\n",
              "</div>"
            ],
            "text/plain": [
              "   you  hello  say  goodbye    i  stop   go  yes   no\n",
              "0    1    1.0  NaN      NaN  NaN   NaN  NaN  NaN  NaN\n",
              "1    1    1.0  2.0      1.0  1.0   NaN  NaN  NaN  NaN\n",
              "2    1    NaN  2.0      NaN  1.0   1.0  1.0  NaN  NaN\n",
              "3    1    2.0  1.0      1.0  NaN   NaN  NaN  NaN  NaN\n",
              "4    1    NaN  2.0      NaN  1.0   NaN  NaN  1.0  1.0"
            ]
          },
          "metadata": {},
          "execution_count": 72
        }
      ]
    },
    {
      "cell_type": "code",
      "metadata": {
        "colab": {
          "base_uri": "https://localhost:8080/",
          "height": 202
        },
        "id": "ap3gsghwuKHe",
        "outputId": "cffefa6a-0dd6-40b7-aa92-d250e7b4a737"
      },
      "source": [
        "# Fill N/A value with 0\n",
        "\n",
        "tf1 = tf1.fillna(0)\n",
        "tf1"
      ],
      "execution_count": 73,
      "outputs": [
        {
          "output_type": "execute_result",
          "data": {
            "text/html": [
              "<div>\n",
              "<style scoped>\n",
              "    .dataframe tbody tr th:only-of-type {\n",
              "        vertical-align: middle;\n",
              "    }\n",
              "\n",
              "    .dataframe tbody tr th {\n",
              "        vertical-align: top;\n",
              "    }\n",
              "\n",
              "    .dataframe thead th {\n",
              "        text-align: right;\n",
              "    }\n",
              "</style>\n",
              "<table border=\"1\" class=\"dataframe\">\n",
              "  <thead>\n",
              "    <tr style=\"text-align: right;\">\n",
              "      <th></th>\n",
              "      <th>say</th>\n",
              "      <th>goodbye</th>\n",
              "      <th>you</th>\n",
              "      <th>i</th>\n",
              "      <th>hello</th>\n",
              "      <th>stop</th>\n",
              "      <th>go</th>\n",
              "      <th>yes</th>\n",
              "      <th>no</th>\n",
              "    </tr>\n",
              "  </thead>\n",
              "  <tbody>\n",
              "    <tr>\n",
              "      <th>0</th>\n",
              "      <td>1</td>\n",
              "      <td>1.0</td>\n",
              "      <td>0.0</td>\n",
              "      <td>0.0</td>\n",
              "      <td>0.0</td>\n",
              "      <td>0.0</td>\n",
              "      <td>0.0</td>\n",
              "      <td>0.0</td>\n",
              "      <td>0.0</td>\n",
              "    </tr>\n",
              "    <tr>\n",
              "      <th>1</th>\n",
              "      <td>2</td>\n",
              "      <td>1.0</td>\n",
              "      <td>1.0</td>\n",
              "      <td>1.0</td>\n",
              "      <td>1.0</td>\n",
              "      <td>0.0</td>\n",
              "      <td>0.0</td>\n",
              "      <td>0.0</td>\n",
              "      <td>0.0</td>\n",
              "    </tr>\n",
              "    <tr>\n",
              "      <th>2</th>\n",
              "      <td>2</td>\n",
              "      <td>0.0</td>\n",
              "      <td>1.0</td>\n",
              "      <td>1.0</td>\n",
              "      <td>0.0</td>\n",
              "      <td>1.0</td>\n",
              "      <td>1.0</td>\n",
              "      <td>0.0</td>\n",
              "      <td>0.0</td>\n",
              "    </tr>\n",
              "    <tr>\n",
              "      <th>3</th>\n",
              "      <td>1</td>\n",
              "      <td>1.0</td>\n",
              "      <td>1.0</td>\n",
              "      <td>0.0</td>\n",
              "      <td>2.0</td>\n",
              "      <td>0.0</td>\n",
              "      <td>0.0</td>\n",
              "      <td>0.0</td>\n",
              "      <td>0.0</td>\n",
              "    </tr>\n",
              "    <tr>\n",
              "      <th>4</th>\n",
              "      <td>2</td>\n",
              "      <td>0.0</td>\n",
              "      <td>1.0</td>\n",
              "      <td>1.0</td>\n",
              "      <td>0.0</td>\n",
              "      <td>0.0</td>\n",
              "      <td>0.0</td>\n",
              "      <td>1.0</td>\n",
              "      <td>1.0</td>\n",
              "    </tr>\n",
              "  </tbody>\n",
              "</table>\n",
              "</div>"
            ],
            "text/plain": [
              "   say  goodbye  you    i  hello  stop   go  yes   no\n",
              "0    1      1.0  0.0  0.0    0.0   0.0  0.0  0.0  0.0\n",
              "1    2      1.0  1.0  1.0    1.0   0.0  0.0  0.0  0.0\n",
              "2    2      0.0  1.0  1.0    0.0   1.0  1.0  0.0  0.0\n",
              "3    1      1.0  1.0  0.0    2.0   0.0  0.0  0.0  0.0\n",
              "4    2      0.0  1.0  1.0    0.0   0.0  0.0  1.0  1.0"
            ]
          },
          "metadata": {},
          "execution_count": 73
        }
      ]
    },
    {
      "cell_type": "code",
      "metadata": {
        "colab": {
          "base_uri": "https://localhost:8080/",
          "height": 202
        },
        "id": "Q_4mZskBa0xx",
        "outputId": "e0865141-f04a-4c91-99eb-f4e930ece122"
      },
      "source": [
        "tf2 = tf2.fillna(0)\n",
        "tf2"
      ],
      "execution_count": 74,
      "outputs": [
        {
          "output_type": "execute_result",
          "data": {
            "text/html": [
              "<div>\n",
              "<style scoped>\n",
              "    .dataframe tbody tr th:only-of-type {\n",
              "        vertical-align: middle;\n",
              "    }\n",
              "\n",
              "    .dataframe tbody tr th {\n",
              "        vertical-align: top;\n",
              "    }\n",
              "\n",
              "    .dataframe thead th {\n",
              "        text-align: right;\n",
              "    }\n",
              "</style>\n",
              "<table border=\"1\" class=\"dataframe\">\n",
              "  <thead>\n",
              "    <tr style=\"text-align: right;\">\n",
              "      <th></th>\n",
              "      <th>you</th>\n",
              "      <th>hello</th>\n",
              "      <th>say</th>\n",
              "      <th>goodbye</th>\n",
              "      <th>i</th>\n",
              "      <th>stop</th>\n",
              "      <th>go</th>\n",
              "      <th>yes</th>\n",
              "      <th>no</th>\n",
              "    </tr>\n",
              "  </thead>\n",
              "  <tbody>\n",
              "    <tr>\n",
              "      <th>0</th>\n",
              "      <td>1</td>\n",
              "      <td>1.0</td>\n",
              "      <td>0.0</td>\n",
              "      <td>0.0</td>\n",
              "      <td>0.0</td>\n",
              "      <td>0.0</td>\n",
              "      <td>0.0</td>\n",
              "      <td>0.0</td>\n",
              "      <td>0.0</td>\n",
              "    </tr>\n",
              "    <tr>\n",
              "      <th>1</th>\n",
              "      <td>1</td>\n",
              "      <td>1.0</td>\n",
              "      <td>2.0</td>\n",
              "      <td>1.0</td>\n",
              "      <td>1.0</td>\n",
              "      <td>0.0</td>\n",
              "      <td>0.0</td>\n",
              "      <td>0.0</td>\n",
              "      <td>0.0</td>\n",
              "    </tr>\n",
              "    <tr>\n",
              "      <th>2</th>\n",
              "      <td>1</td>\n",
              "      <td>0.0</td>\n",
              "      <td>2.0</td>\n",
              "      <td>0.0</td>\n",
              "      <td>1.0</td>\n",
              "      <td>1.0</td>\n",
              "      <td>1.0</td>\n",
              "      <td>0.0</td>\n",
              "      <td>0.0</td>\n",
              "    </tr>\n",
              "    <tr>\n",
              "      <th>3</th>\n",
              "      <td>1</td>\n",
              "      <td>2.0</td>\n",
              "      <td>1.0</td>\n",
              "      <td>1.0</td>\n",
              "      <td>0.0</td>\n",
              "      <td>0.0</td>\n",
              "      <td>0.0</td>\n",
              "      <td>0.0</td>\n",
              "      <td>0.0</td>\n",
              "    </tr>\n",
              "    <tr>\n",
              "      <th>4</th>\n",
              "      <td>1</td>\n",
              "      <td>0.0</td>\n",
              "      <td>2.0</td>\n",
              "      <td>0.0</td>\n",
              "      <td>1.0</td>\n",
              "      <td>0.0</td>\n",
              "      <td>0.0</td>\n",
              "      <td>1.0</td>\n",
              "      <td>1.0</td>\n",
              "    </tr>\n",
              "  </tbody>\n",
              "</table>\n",
              "</div>"
            ],
            "text/plain": [
              "   you  hello  say  goodbye    i  stop   go  yes   no\n",
              "0    1    1.0  0.0      0.0  0.0   0.0  0.0  0.0  0.0\n",
              "1    1    1.0  2.0      1.0  1.0   0.0  0.0  0.0  0.0\n",
              "2    1    0.0  2.0      0.0  1.0   1.0  1.0  0.0  0.0\n",
              "3    1    2.0  1.0      1.0  0.0   0.0  0.0  0.0  0.0\n",
              "4    1    0.0  2.0      0.0  1.0   0.0  0.0  1.0  1.0"
            ]
          },
          "metadata": {},
          "execution_count": 74
        }
      ]
    },
    {
      "cell_type": "code",
      "metadata": {
        "colab": {
          "base_uri": "https://localhost:8080/"
        },
        "id": "8OVYVKszuiyT",
        "outputId": "705895c4-ef7b-45df-938d-d4eee3ddf29e"
      },
      "source": [
        "# Get document frequencies \n",
        "\n",
        "df1 = (tf1 > 0).sum(axis=0)\n",
        "df1"
      ],
      "execution_count": 75,
      "outputs": [
        {
          "output_type": "execute_result",
          "data": {
            "text/plain": [
              "say        5\n",
              "goodbye    3\n",
              "you        4\n",
              "i          3\n",
              "hello      2\n",
              "stop       1\n",
              "go         1\n",
              "yes        1\n",
              "no         1\n",
              "dtype: int64"
            ]
          },
          "metadata": {},
          "execution_count": 75
        }
      ]
    },
    {
      "cell_type": "code",
      "metadata": {
        "colab": {
          "base_uri": "https://localhost:8080/"
        },
        "id": "di6bpjiXa5-B",
        "outputId": "0864b429-b04c-4c1a-88a6-7f097c98c38b"
      },
      "source": [
        "df2 = (tf2 > 0).sum(axis=0)\n",
        "df2"
      ],
      "execution_count": 76,
      "outputs": [
        {
          "output_type": "execute_result",
          "data": {
            "text/plain": [
              "you        5\n",
              "hello      3\n",
              "say        4\n",
              "goodbye    2\n",
              "i          3\n",
              "stop       1\n",
              "go         1\n",
              "yes        1\n",
              "no         1\n",
              "dtype: int64"
            ]
          },
          "metadata": {},
          "execution_count": 76
        }
      ]
    },
    {
      "cell_type": "code",
      "metadata": {
        "colab": {
          "base_uri": "https://localhost:8080/"
        },
        "id": "TsjTG56Rul8x",
        "outputId": "052c56e1-5db4-411a-8499-9090c3257aea"
      },
      "source": [
        "# Get IDFs\n",
        "\n",
        "\n",
        "idf1 = np.log(len(tf1) / df1)\n",
        "idf1"
      ],
      "execution_count": 77,
      "outputs": [
        {
          "output_type": "execute_result",
          "data": {
            "text/plain": [
              "say        0.000000\n",
              "goodbye    0.510826\n",
              "you        0.223144\n",
              "i          0.510826\n",
              "hello      0.916291\n",
              "stop       1.609438\n",
              "go         1.609438\n",
              "yes        1.609438\n",
              "no         1.609438\n",
              "dtype: float64"
            ]
          },
          "metadata": {},
          "execution_count": 77
        }
      ]
    },
    {
      "cell_type": "code",
      "metadata": {
        "colab": {
          "base_uri": "https://localhost:8080/"
        },
        "id": "FJlcitBda88H",
        "outputId": "a3c5bc70-0b7a-41ce-fb3a-6cb7ab0f6706"
      },
      "source": [
        "idf2 = np.log(len(tf2) / df2)\n",
        "idf2"
      ],
      "execution_count": 78,
      "outputs": [
        {
          "output_type": "execute_result",
          "data": {
            "text/plain": [
              "you        0.000000\n",
              "hello      0.510826\n",
              "say        0.223144\n",
              "goodbye    0.916291\n",
              "i          0.510826\n",
              "stop       1.609438\n",
              "go         1.609438\n",
              "yes        1.609438\n",
              "no         1.609438\n",
              "dtype: float64"
            ]
          },
          "metadata": {},
          "execution_count": 78
        }
      ]
    },
    {
      "cell_type": "code",
      "metadata": {
        "colab": {
          "base_uri": "https://localhost:8080/",
          "height": 202
        },
        "id": "MCevm8OjvEQ_",
        "outputId": "d7cae773-f3bf-45dd-8a2c-c253c6b7a8df"
      },
      "source": [
        "# Calculate TF-IDFs\n",
        "\n",
        "\n",
        "tf_idf1 = tf1 * idf1\n",
        "tf_idf1"
      ],
      "execution_count": 79,
      "outputs": [
        {
          "output_type": "execute_result",
          "data": {
            "text/html": [
              "<div>\n",
              "<style scoped>\n",
              "    .dataframe tbody tr th:only-of-type {\n",
              "        vertical-align: middle;\n",
              "    }\n",
              "\n",
              "    .dataframe tbody tr th {\n",
              "        vertical-align: top;\n",
              "    }\n",
              "\n",
              "    .dataframe thead th {\n",
              "        text-align: right;\n",
              "    }\n",
              "</style>\n",
              "<table border=\"1\" class=\"dataframe\">\n",
              "  <thead>\n",
              "    <tr style=\"text-align: right;\">\n",
              "      <th></th>\n",
              "      <th>say</th>\n",
              "      <th>goodbye</th>\n",
              "      <th>you</th>\n",
              "      <th>i</th>\n",
              "      <th>hello</th>\n",
              "      <th>stop</th>\n",
              "      <th>go</th>\n",
              "      <th>yes</th>\n",
              "      <th>no</th>\n",
              "    </tr>\n",
              "  </thead>\n",
              "  <tbody>\n",
              "    <tr>\n",
              "      <th>0</th>\n",
              "      <td>0.0</td>\n",
              "      <td>0.510826</td>\n",
              "      <td>0.000000</td>\n",
              "      <td>0.000000</td>\n",
              "      <td>0.000000</td>\n",
              "      <td>0.000000</td>\n",
              "      <td>0.000000</td>\n",
              "      <td>0.000000</td>\n",
              "      <td>0.000000</td>\n",
              "    </tr>\n",
              "    <tr>\n",
              "      <th>1</th>\n",
              "      <td>0.0</td>\n",
              "      <td>0.510826</td>\n",
              "      <td>0.223144</td>\n",
              "      <td>0.510826</td>\n",
              "      <td>0.916291</td>\n",
              "      <td>0.000000</td>\n",
              "      <td>0.000000</td>\n",
              "      <td>0.000000</td>\n",
              "      <td>0.000000</td>\n",
              "    </tr>\n",
              "    <tr>\n",
              "      <th>2</th>\n",
              "      <td>0.0</td>\n",
              "      <td>0.000000</td>\n",
              "      <td>0.223144</td>\n",
              "      <td>0.510826</td>\n",
              "      <td>0.000000</td>\n",
              "      <td>1.609438</td>\n",
              "      <td>1.609438</td>\n",
              "      <td>0.000000</td>\n",
              "      <td>0.000000</td>\n",
              "    </tr>\n",
              "    <tr>\n",
              "      <th>3</th>\n",
              "      <td>0.0</td>\n",
              "      <td>0.510826</td>\n",
              "      <td>0.223144</td>\n",
              "      <td>0.000000</td>\n",
              "      <td>1.832581</td>\n",
              "      <td>0.000000</td>\n",
              "      <td>0.000000</td>\n",
              "      <td>0.000000</td>\n",
              "      <td>0.000000</td>\n",
              "    </tr>\n",
              "    <tr>\n",
              "      <th>4</th>\n",
              "      <td>0.0</td>\n",
              "      <td>0.000000</td>\n",
              "      <td>0.223144</td>\n",
              "      <td>0.510826</td>\n",
              "      <td>0.000000</td>\n",
              "      <td>0.000000</td>\n",
              "      <td>0.000000</td>\n",
              "      <td>1.609438</td>\n",
              "      <td>1.609438</td>\n",
              "    </tr>\n",
              "  </tbody>\n",
              "</table>\n",
              "</div>"
            ],
            "text/plain": [
              "   say   goodbye       you         i  ...      stop        go       yes        no\n",
              "0  0.0  0.510826  0.000000  0.000000  ...  0.000000  0.000000  0.000000  0.000000\n",
              "1  0.0  0.510826  0.223144  0.510826  ...  0.000000  0.000000  0.000000  0.000000\n",
              "2  0.0  0.000000  0.223144  0.510826  ...  1.609438  1.609438  0.000000  0.000000\n",
              "3  0.0  0.510826  0.223144  0.000000  ...  0.000000  0.000000  0.000000  0.000000\n",
              "4  0.0  0.000000  0.223144  0.510826  ...  0.000000  0.000000  1.609438  1.609438\n",
              "\n",
              "[5 rows x 9 columns]"
            ]
          },
          "metadata": {},
          "execution_count": 79
        }
      ]
    },
    {
      "cell_type": "code",
      "metadata": {
        "colab": {
          "base_uri": "https://localhost:8080/",
          "height": 202
        },
        "id": "c5xH6hZ0bCTR",
        "outputId": "ea98b27a-bd76-4274-9b41-b158ebae54d2"
      },
      "source": [
        "tf_idf2 = tf2 * idf2\n",
        "tf_idf2"
      ],
      "execution_count": 80,
      "outputs": [
        {
          "output_type": "execute_result",
          "data": {
            "text/html": [
              "<div>\n",
              "<style scoped>\n",
              "    .dataframe tbody tr th:only-of-type {\n",
              "        vertical-align: middle;\n",
              "    }\n",
              "\n",
              "    .dataframe tbody tr th {\n",
              "        vertical-align: top;\n",
              "    }\n",
              "\n",
              "    .dataframe thead th {\n",
              "        text-align: right;\n",
              "    }\n",
              "</style>\n",
              "<table border=\"1\" class=\"dataframe\">\n",
              "  <thead>\n",
              "    <tr style=\"text-align: right;\">\n",
              "      <th></th>\n",
              "      <th>you</th>\n",
              "      <th>hello</th>\n",
              "      <th>say</th>\n",
              "      <th>goodbye</th>\n",
              "      <th>i</th>\n",
              "      <th>stop</th>\n",
              "      <th>go</th>\n",
              "      <th>yes</th>\n",
              "      <th>no</th>\n",
              "    </tr>\n",
              "  </thead>\n",
              "  <tbody>\n",
              "    <tr>\n",
              "      <th>0</th>\n",
              "      <td>0.0</td>\n",
              "      <td>0.510826</td>\n",
              "      <td>0.000000</td>\n",
              "      <td>0.000000</td>\n",
              "      <td>0.000000</td>\n",
              "      <td>0.000000</td>\n",
              "      <td>0.000000</td>\n",
              "      <td>0.000000</td>\n",
              "      <td>0.000000</td>\n",
              "    </tr>\n",
              "    <tr>\n",
              "      <th>1</th>\n",
              "      <td>0.0</td>\n",
              "      <td>0.510826</td>\n",
              "      <td>0.446287</td>\n",
              "      <td>0.916291</td>\n",
              "      <td>0.510826</td>\n",
              "      <td>0.000000</td>\n",
              "      <td>0.000000</td>\n",
              "      <td>0.000000</td>\n",
              "      <td>0.000000</td>\n",
              "    </tr>\n",
              "    <tr>\n",
              "      <th>2</th>\n",
              "      <td>0.0</td>\n",
              "      <td>0.000000</td>\n",
              "      <td>0.446287</td>\n",
              "      <td>0.000000</td>\n",
              "      <td>0.510826</td>\n",
              "      <td>1.609438</td>\n",
              "      <td>1.609438</td>\n",
              "      <td>0.000000</td>\n",
              "      <td>0.000000</td>\n",
              "    </tr>\n",
              "    <tr>\n",
              "      <th>3</th>\n",
              "      <td>0.0</td>\n",
              "      <td>1.021651</td>\n",
              "      <td>0.223144</td>\n",
              "      <td>0.916291</td>\n",
              "      <td>0.000000</td>\n",
              "      <td>0.000000</td>\n",
              "      <td>0.000000</td>\n",
              "      <td>0.000000</td>\n",
              "      <td>0.000000</td>\n",
              "    </tr>\n",
              "    <tr>\n",
              "      <th>4</th>\n",
              "      <td>0.0</td>\n",
              "      <td>0.000000</td>\n",
              "      <td>0.446287</td>\n",
              "      <td>0.000000</td>\n",
              "      <td>0.510826</td>\n",
              "      <td>0.000000</td>\n",
              "      <td>0.000000</td>\n",
              "      <td>1.609438</td>\n",
              "      <td>1.609438</td>\n",
              "    </tr>\n",
              "  </tbody>\n",
              "</table>\n",
              "</div>"
            ],
            "text/plain": [
              "   you     hello       say   goodbye  ...      stop        go       yes        no\n",
              "0  0.0  0.510826  0.000000  0.000000  ...  0.000000  0.000000  0.000000  0.000000\n",
              "1  0.0  0.510826  0.446287  0.916291  ...  0.000000  0.000000  0.000000  0.000000\n",
              "2  0.0  0.000000  0.446287  0.000000  ...  1.609438  1.609438  0.000000  0.000000\n",
              "3  0.0  1.021651  0.223144  0.916291  ...  0.000000  0.000000  0.000000  0.000000\n",
              "4  0.0  0.000000  0.446287  0.000000  ...  0.000000  0.000000  1.609438  1.609438\n",
              "\n",
              "[5 rows x 9 columns]"
            ]
          },
          "metadata": {},
          "execution_count": 80
        }
      ]
    },
    {
      "cell_type": "markdown",
      "metadata": {
        "id": "0oa-DcqJRTUT"
      },
      "source": [
        "**Cisine Similarity**"
      ]
    },
    {
      "cell_type": "code",
      "metadata": {
        "id": "ogM88KzIX_ha"
      },
      "source": [
        "from sklearn.feature_extraction.text import TfidfVectorizer\n",
        "\n",
        "vec = TfidfVectorizer(norm=None) # Do not normalize.\n",
        "vec.fit(data1) # This determines the vocabulary.\n",
        "tf_idf_sparse1 = vec.transform(data1)\n",
        "\n",
        "vec.fit(data2) # This determines the vocabulary.\n",
        "tf_idf_sparse2 = vec.transform(data2)"
      ],
      "execution_count": 81,
      "outputs": []
    },
    {
      "cell_type": "code",
      "metadata": {
        "colab": {
          "base_uri": "https://localhost:8080/"
        },
        "id": "z9t-lbtkvH6H",
        "outputId": "66edd6d9-4266-4f95-a68c-041db57083ec"
      },
      "source": [
        "# Calculate the numerator.\n",
        "a1 = tf_idf_sparse1[0, :]\n",
        "b1 = tf_idf_sparse1[2, :]\n",
        "dot1 = a1.multiply(b1).sum()\n",
        "\n",
        "# Calculate the terms in the denominator.\n",
        "a_len1 = np.sqrt(a1.multiply(a1).sum())\n",
        "b_len1 = np.sqrt(b1.multiply(b1).sum())\n",
        "\n",
        "# Cosine similarity is their ratio.\n",
        "dot1 / (a_len1 * b_len1)"
      ],
      "execution_count": 82,
      "outputs": [
        {
          "output_type": "execute_result",
          "data": {
            "text/plain": [
              "0.30762584904158347"
            ]
          },
          "metadata": {},
          "execution_count": 82
        }
      ]
    },
    {
      "cell_type": "code",
      "metadata": {
        "colab": {
          "base_uri": "https://localhost:8080/"
        },
        "id": "0YfRVDDFbfjB",
        "outputId": "4d89926b-dbaa-4fdf-8354-8a2707742a30"
      },
      "source": [
        "# Calculate the numerator.\n",
        "a2 = tf_idf_sparse2[0, :]\n",
        "b2 = tf_idf_sparse2[2, :]\n",
        "dot2 = a2.multiply(b2).sum()\n",
        "\n",
        "# Calculate the terms in the denominator.\n",
        "a_len2 = np.sqrt(a2.multiply(a2).sum())\n",
        "b_len2 = np.sqrt(b2.multiply(b2).sum())\n",
        "\n",
        "# Cosine similarity is their ratio.\n",
        "dot2 / (a_len2 * b_len2)"
      ],
      "execution_count": 83,
      "outputs": [
        {
          "output_type": "execute_result",
          "data": {
            "text/plain": [
              "0.14773164862341073"
            ]
          },
          "metadata": {},
          "execution_count": 83
        }
      ]
    },
    {
      "cell_type": "code",
      "metadata": {
        "colab": {
          "base_uri": "https://localhost:8080/"
        },
        "id": "z6EYa3TdvMrQ",
        "outputId": "f29ef23a-7b0d-4142-9c15-f133ecb277af"
      },
      "source": [
        "# Calculate the numerators.\n",
        "a1 = tf_idf_sparse1[0, :]\n",
        "B1 = tf_idf_sparse1\n",
        "dot1 = a1.multiply(B1).sum(axis=1)\n",
        "dot1"
      ],
      "execution_count": 84,
      "outputs": [
        {
          "output_type": "execute_result",
          "data": {
            "text/plain": [
              "matrix([[2.97533217],\n",
              "        [3.97533217],\n",
              "        [2.        ],\n",
              "        [2.97533217],\n",
              "        [2.        ]])"
            ]
          },
          "metadata": {},
          "execution_count": 84
        }
      ]
    },
    {
      "cell_type": "code",
      "metadata": {
        "colab": {
          "base_uri": "https://localhost:8080/"
        },
        "id": "BbGPag0dbmIf",
        "outputId": "d6e8f835-0ae2-483e-bdf6-62d9257b8df4"
      },
      "source": [
        "# Calculate the numerators.\n",
        "a2 = tf_idf_sparse2[0, :]\n",
        "B2 = tf_idf_sparse2\n",
        "dot2 = a2.multiply(B2).sum(axis=1)\n",
        "dot2"
      ],
      "execution_count": 85,
      "outputs": [
        {
          "output_type": "execute_result",
          "data": {
            "text/plain": [
              "matrix([[2.97533217],\n",
              "        [2.97533217],\n",
              "        [1.        ],\n",
              "        [4.95066434],\n",
              "        [1.        ]])"
            ]
          },
          "metadata": {},
          "execution_count": 85
        }
      ]
    },
    {
      "cell_type": "code",
      "metadata": {
        "colab": {
          "base_uri": "https://localhost:8080/"
        },
        "id": "uHii8BdywVfR",
        "outputId": "a26f1bf5-12bd-4543-a230-45da7af028fb"
      },
      "source": [
        "# Calculate the denominators.\n",
        "a_len1 = np.sqrt(a1.multiply(a1).sum())\n",
        "b_len1 = np.sqrt(B1.multiply(B1).sum(axis=1))\n",
        "print(a_len1)\n",
        "b_len1"
      ],
      "execution_count": 86,
      "outputs": [
        {
          "output_type": "stream",
          "name": "stdout",
          "text": [
            "1.7249151196825583\n"
          ]
        },
        {
          "output_type": "execute_result",
          "data": {
            "text/plain": [
              "matrix([[1.72491512],\n",
              "        [3.19999435],\n",
              "        [3.76911546],\n",
              "        [3.97997562],\n",
              "        [3.76911546]])"
            ]
          },
          "metadata": {},
          "execution_count": 86
        }
      ]
    },
    {
      "cell_type": "code",
      "metadata": {
        "colab": {
          "base_uri": "https://localhost:8080/"
        },
        "id": "qVjtZCU7bua3",
        "outputId": "76e353ed-7298-4ab2-9db2-2f47679503c8"
      },
      "source": [
        "# Calculate the denominators.\n",
        "a_len2 = np.sqrt(a2.multiply(a2).sum())\n",
        "b_len2 = np.sqrt(B2.multiply(B2).sum(axis=1))\n",
        "print(a_len2)\n",
        "b_len2"
      ],
      "execution_count": 87,
      "outputs": [
        {
          "output_type": "stream",
          "name": "stdout",
          "text": [
            "1.7249151196825583\n"
          ]
        },
        {
          "output_type": "execute_result",
          "data": {
            "text/plain": [
              "matrix([[1.72491512],\n",
              "        [3.38136313],\n",
              "        [3.92426861],\n",
              "        [3.62849284],\n",
              "        [3.92426861]])"
            ]
          },
          "metadata": {},
          "execution_count": 87
        }
      ]
    },
    {
      "cell_type": "code",
      "metadata": {
        "colab": {
          "base_uri": "https://localhost:8080/"
        },
        "id": "1FQ4-RL5wXGW",
        "outputId": "e22464cc-6264-437c-fde8-b806b7e478f5"
      },
      "source": [
        "# Calculate their ratio to obtain cosine similarities.\n",
        "dot1 / (a_len1 * b_len1)"
      ],
      "execution_count": 88,
      "outputs": [
        {
          "output_type": "execute_result",
          "data": {
            "text/plain": [
              "matrix([[1.        ],\n",
              "        [0.72020558],\n",
              "        [0.30762585],\n",
              "        [0.43339841],\n",
              "        [0.30762585]])"
            ]
          },
          "metadata": {},
          "execution_count": 88
        }
      ]
    },
    {
      "cell_type": "code",
      "metadata": {
        "colab": {
          "base_uri": "https://localhost:8080/"
        },
        "id": "IFps9gKybyNT",
        "outputId": "541484b1-71cd-4e46-daab-6034cb4d2e2c"
      },
      "source": [
        "# Calculate their ratio to obtain cosine similarities.\n",
        "dot2 / (a_len2 * b_len2)"
      ],
      "execution_count": 89,
      "outputs": [
        {
          "output_type": "execute_result",
          "data": {
            "text/plain": [
              "matrix([[1.        ],\n",
              "        [0.51012419],\n",
              "        [0.14773165],\n",
              "        [0.79098725],\n",
              "        [0.14773165]])"
            ]
          },
          "metadata": {},
          "execution_count": 89
        }
      ]
    },
    {
      "cell_type": "code",
      "metadata": {
        "colab": {
          "base_uri": "https://localhost:8080/"
        },
        "id": "ehOR7XNDwZEN",
        "outputId": "f4d32893-eaff-4921-c91a-749e7073b8e1"
      },
      "source": [
        "cos_similarities1 = pd.DataFrame(dot1 / (a_len1 * b_len1))[0]\n",
        "most_similar1 = cos_similarities1.sort_values(ascending=False)\n",
        "most_similar1"
      ],
      "execution_count": 90,
      "outputs": [
        {
          "output_type": "execute_result",
          "data": {
            "text/plain": [
              "0    1.000000\n",
              "1    0.720206\n",
              "3    0.433398\n",
              "4    0.307626\n",
              "2    0.307626\n",
              "Name: 0, dtype: float64"
            ]
          },
          "metadata": {},
          "execution_count": 90
        }
      ]
    },
    {
      "cell_type": "code",
      "metadata": {
        "colab": {
          "base_uri": "https://localhost:8080/"
        },
        "id": "Z1C7juWqYLxn",
        "outputId": "1eaadef1-14d0-43d4-a358-eb8a5d890f24"
      },
      "source": [
        "cos_similarities2 = pd.DataFrame(dot2 / (a_len2 * b_len2))[0]\n",
        "most_similar2 = cos_similarities2.sort_values(ascending=False)\n",
        "most_similar2"
      ],
      "execution_count": 91,
      "outputs": [
        {
          "output_type": "execute_result",
          "data": {
            "text/plain": [
              "0    1.000000\n",
              "3    0.790987\n",
              "1    0.510124\n",
              "4    0.147732\n",
              "2    0.147732\n",
              "Name: 0, dtype: float64"
            ]
          },
          "metadata": {},
          "execution_count": 91
        }
      ]
    }
  ]
}